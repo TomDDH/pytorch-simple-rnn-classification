{
 "cells": [
  {
   "cell_type": "code",
   "execution_count": 40,
   "metadata": {},
   "outputs": [],
   "source": [
    "import torch\n",
    "import torch.nn as nn \n",
    "import matplotlib.pyplot as plt \n",
    "import torchvision\n",
    "import numpy as np\n",
    "import random\n",
    "import torchvision.transforms as transforms\n",
    "import os"
   ]
  },
  {
   "cell_type": "code",
   "execution_count": 41,
   "metadata": {},
   "outputs": [],
   "source": [
    "train_images = []\n",
    "test_images =[]\n",
    "\n",
    "totalImages = os.listdir( os.getcwd()+\"/MNIST-CH\")\n",
    " \n",
    "for index in range(len(totalImages)):\n",
    "    image = totalImages[index]\n",
    "    if image.endswith(\".jpg\"):\n",
    "        if index <= 100:\n",
    "            train_images.append(image)\n",
    "        else:\n",
    "            test_images.append(image)"
   ]
  },
  {
   "cell_type": "code",
   "execution_count": 42,
   "metadata": {},
   "outputs": [
    {
     "name": "stdout",
     "output_type": "stream",
     "text": [
      "torch.Size([32, 32]) tensor(2)\n"
     ]
    },
    {
     "data": {
      "text/plain": [
       "<matplotlib.image.AxesImage at 0x15cbdce90>"
      ]
     },
     "execution_count": 42,
     "metadata": {},
     "output_type": "execute_result"
    },
    {
     "data": {
      "image/png": "[encoded data removed]",
      "text/plain": [
       "<Figure size 640x480 with 1 Axes>"
      ]
     },
     "metadata": {},
     "output_type": "display_data"
    }
   ],
   "source": [
    "class MNIST_CH_Dataset(torch.utils.data.Dataset):\n",
    "    def __init__(self,img_dir,images,transforms=None):\n",
    "        self.img_dir = img_dir\n",
    "        self.inputs = images\n",
    "        self.transforms = transforms\n",
    "    def __len__(self):\n",
    "        return len(self.inputs)\n",
    "    def __getitem__(self, idx):\n",
    "        img_path = os.path.join(self.img_dir, self.inputs[idx])\n",
    "        input = torchvision.io.read_image(img_path)\n",
    "        if self.transforms:\n",
    "            input = self.transforms(input)\n",
    "        # input = torch.flatten(input)\n",
    "        input = input.view(-1, 32)\n",
    "        # input = input[:,None,:]\n",
    "        target =torch.tensor(int(self.inputs[idx].split('.')[-2][-1] ))\n",
    "        return input,target\n",
    "    \n",
    "transform_train = transforms.Compose([\n",
    "                                    #   transforms.RandomRotation(45),\n",
    "                                      transforms.RandomCrop(32),\n",
    "                                      # transforms.RandomHorizontalFlip(p=0.5),\n",
    "                                    #   transforms.RandomAffine(0, translate=(0.1, 0.1)),\n",
    "                                      transforms.ConvertImageDtype(dtype=torch.float32),\n",
    "                                      ])\n",
    "\n",
    "train_dataset = MNIST_CH_Dataset(img_dir=os.getcwd()+\"/MNIST-CH\",  images=train_images, transforms=transform_train )\n",
    "test_dataset = MNIST_CH_Dataset(img_dir=os.getcwd()+\"/MNIST-CH\",  images=test_images, transforms=transform_train )\n",
    "\n",
    "\n",
    "train_dataloader = torch.utils.data.DataLoader(dataset=train_dataset,batch_size=10, shuffle=True)\n",
    "test_dataloader = torch.utils.data.DataLoader(dataset=test_dataset,batch_size=10, shuffle=False)\n",
    "\n",
    "\n",
    "testInput,target = train_dataset.__getitem__(1)\n",
    "print(testInput.shape,target)\n",
    "plt.imshow(testInput,cmap='gray')"
   ]
  },
  {
   "cell_type": "code",
   "execution_count": 43,
   "metadata": {},
   "outputs": [],
   "source": [
    "class RNN(nn.Module):\n",
    "    def __init__(self, input_size, hidden_size, output_size):\n",
    "        super(RNN, self).__init__()\n",
    "        self.hidden_size = hidden_size\n",
    "        \n",
    "        self.i2h = nn.Linear(input_size + hidden_size, hidden_size)\n",
    "        self.h2o = nn.Linear(hidden_size, output_size)\n",
    "        # self.softmax = nn.LogSoftmax(dim=1)\n",
    "        \n",
    "    def forward(self, input_tensor):\n",
    "        \n",
    "        hidden = torch.zeros(input_tensor.size(0), self.hidden_size)\n",
    "        \n",
    "        # Loop through each time step\n",
    "        for t in range(input_tensor.size(1)):\n",
    "            row = input_tensor[:, t, :]  # input at time step t\n",
    "            combined = torch.cat((row, hidden), dim=1)  # concatenate input and hidden state\n",
    "            h_t = torch.tanh(self.i2h(combined))  # update hidden state\n",
    "        \n",
    "\n",
    "        output = self.h2o(h_t)\n",
    "        return output"
   ]
  },
  {
   "cell_type": "code",
   "execution_count": 44,
   "metadata": {},
   "outputs": [],
   "source": [
    "\n",
    "input_size = 32\n",
    "hidden_size = 128\n",
    "output_size = 10\n",
    "num_layers = 10\n",
    "model = RNN(input_size,hidden_size,output_size)\n",
    "\n",
    "# criterion = nn.NLLLoss()\n",
    "learning_rate = 0.001\n",
    "# optimizer = torch.optim.Adam(model.parameters())\n",
    "criterion = nn.CrossEntropyLoss()\n",
    "optimizer = torch.optim.Adam(model.parameters(),lr=learning_rate)"
   ]
  },
  {
   "cell_type": "code",
   "execution_count": 45,
   "metadata": {},
   "outputs": [
    {
     "name": "stdout",
     "output_type": "stream",
     "text": [
      "Epoch [1/100], Loss: 2.2978\n",
      "Epoch [2/100], Loss: 2.3370\n",
      "Epoch [3/100], Loss: 2.2885\n",
      "Epoch [4/100], Loss: 2.2912\n",
      "Epoch [5/100], Loss: 2.2950\n",
      "Epoch [6/100], Loss: 2.3035\n",
      "Epoch [7/100], Loss: 2.2986\n",
      "Epoch [8/100], Loss: 2.3021\n",
      "Epoch [9/100], Loss: 2.3080\n",
      "Epoch [10/100], Loss: 2.2885\n",
      "Epoch [11/100], Loss: 2.3065\n",
      "Epoch [12/100], Loss: 2.2853\n",
      "Epoch [13/100], Loss: 2.2887\n",
      "Epoch [14/100], Loss: 2.3045\n",
      "Epoch [15/100], Loss: 2.2818\n",
      "Epoch [16/100], Loss: 2.2633\n",
      "Epoch [17/100], Loss: 2.2901\n",
      "Epoch [18/100], Loss: 2.3371\n",
      "Epoch [19/100], Loss: 2.3268\n",
      "Epoch [20/100], Loss: 2.3147\n",
      "Epoch [21/100], Loss: 2.2738\n",
      "Epoch [22/100], Loss: 2.2565\n",
      "Epoch [23/100], Loss: 2.2566\n",
      "Epoch [24/100], Loss: 2.3558\n",
      "Epoch [25/100], Loss: 2.3267\n",
      "Epoch [26/100], Loss: 2.2750\n",
      "Epoch [27/100], Loss: 2.3334\n",
      "Epoch [28/100], Loss: 2.2974\n",
      "Epoch [29/100], Loss: 2.2646\n",
      "Epoch [30/100], Loss: 2.2941\n",
      "Epoch [31/100], Loss: 2.2541\n",
      "Epoch [32/100], Loss: 2.3111\n",
      "Epoch [33/100], Loss: 2.2896\n",
      "Epoch [34/100], Loss: 2.2474\n",
      "Epoch [35/100], Loss: 2.2770\n",
      "Epoch [36/100], Loss: 2.3090\n",
      "Epoch [37/100], Loss: 2.2845\n",
      "Epoch [38/100], Loss: 2.2367\n",
      "Epoch [39/100], Loss: 2.2161\n",
      "Epoch [40/100], Loss: 2.2412\n",
      "Epoch [41/100], Loss: 2.3620\n",
      "Epoch [42/100], Loss: 2.2523\n",
      "Epoch [43/100], Loss: 2.3150\n",
      "Epoch [44/100], Loss: 2.2874\n",
      "Epoch [45/100], Loss: 2.2684\n",
      "Epoch [46/100], Loss: 2.2289\n",
      "Epoch [47/100], Loss: 2.2788\n",
      "Epoch [48/100], Loss: 2.2246\n",
      "Epoch [49/100], Loss: 2.2717\n",
      "Epoch [50/100], Loss: 2.2131\n",
      "Epoch [51/100], Loss: 2.2521\n",
      "Epoch [52/100], Loss: 2.2323\n",
      "Epoch [53/100], Loss: 2.2489\n",
      "Epoch [54/100], Loss: 2.2592\n",
      "Epoch [55/100], Loss: 2.2465\n",
      "Epoch [56/100], Loss: 2.2249\n",
      "Epoch [57/100], Loss: 2.2052\n",
      "Epoch [58/100], Loss: 2.3286\n",
      "Epoch [59/100], Loss: 2.1896\n",
      "Epoch [60/100], Loss: 2.1498\n",
      "Epoch [61/100], Loss: 2.1970\n",
      "Epoch [62/100], Loss: 2.2446\n",
      "Epoch [63/100], Loss: 2.2682\n",
      "Epoch [64/100], Loss: 2.2231\n",
      "Epoch [65/100], Loss: 2.1724\n",
      "Epoch [66/100], Loss: 2.2167\n",
      "Epoch [67/100], Loss: 2.2221\n",
      "Epoch [68/100], Loss: 2.1984\n",
      "Epoch [69/100], Loss: 2.1485\n",
      "Epoch [70/100], Loss: 2.1337\n",
      "Epoch [71/100], Loss: 2.1840\n",
      "Epoch [72/100], Loss: 2.2928\n",
      "Epoch [73/100], Loss: 2.1559\n",
      "Epoch [74/100], Loss: 2.1465\n",
      "Epoch [75/100], Loss: 2.2974\n",
      "Epoch [76/100], Loss: 2.2678\n",
      "Epoch [77/100], Loss: 2.2200\n",
      "Epoch [78/100], Loss: 2.2412\n",
      "Epoch [79/100], Loss: 2.0789\n",
      "Epoch [80/100], Loss: 2.2014\n",
      "Epoch [81/100], Loss: 2.2080\n",
      "Epoch [82/100], Loss: 2.1855\n",
      "Epoch [83/100], Loss: 2.1787\n",
      "Epoch [84/100], Loss: 2.2815\n",
      "Epoch [85/100], Loss: 2.1323\n",
      "Epoch [86/100], Loss: 2.0460\n",
      "Epoch [87/100], Loss: 2.1908\n",
      "Epoch [88/100], Loss: 2.1045\n",
      "Epoch [89/100], Loss: 2.1132\n",
      "Epoch [90/100], Loss: 2.1815\n",
      "Epoch [91/100], Loss: 2.1339\n",
      "Epoch [92/100], Loss: 2.0885\n",
      "Epoch [93/100], Loss: 2.0595\n",
      "Epoch [94/100], Loss: 2.0358\n",
      "Epoch [95/100], Loss: 2.0306\n",
      "Epoch [96/100], Loss: 2.0539\n",
      "Epoch [97/100], Loss: 2.1769\n",
      "Epoch [98/100], Loss: 1.9999\n",
      "Epoch [99/100], Loss: 2.1275\n",
      "Epoch [100/100], Loss: 2.2623\n"
     ]
    }
   ],
   "source": [
    "num_epochs = 100\n",
    "train_losses = np.zeros(num_epochs)\n",
    "for epoch in range(num_epochs):\n",
    "    train_loss = []\n",
    "    for i, (input,target) in enumerate(train_dataloader):\n",
    "        # print(input.shape)\n",
    "        input = input.reshape(-1, 32, 32)\n",
    "        outputs = model(input)\n",
    "        loss = criterion(outputs, target)\n",
    "     \n",
    "        # Backward and optimize\n",
    "        optimizer.zero_grad()\n",
    "        loss.backward()\n",
    "        optimizer.step()\n",
    "        train_loss.append(loss.item())\n",
    "        if (i+1) % 10 == 0:\n",
    "            # print(input.shape)\n",
    "            # print(target.shape)\n",
    "            # print(outputs.shape)\n",
    "            print(f'Epoch [{epoch+1}/{num_epochs}], Loss: {loss.item():.4f}')\n",
    "    train_loss = np.mean(train_loss)\n",
    "    train_losses[epoch] = train_loss"
   ]
  },
  {
   "cell_type": "code",
   "execution_count": 46,
   "metadata": {},
   "outputs": [
    {
     "data": {
      "image/png": "[encoded data removed]",
      "text/plain": [
       "<Figure size 640x480 with 1 Axes>"
      ]
     },
     "metadata": {},
     "output_type": "display_data"
    }
   ],
   "source": [
    "plt.plot(train_losses, label='train loss')\n",
    "plt.legend()\n",
    "plt.show()"
   ]
  },
  {
   "cell_type": "code",
   "execution_count": 47,
   "metadata": {},
   "outputs": [
    {
     "name": "stdout",
     "output_type": "stream",
     "text": [
      "Test Accuracy: 10.00%\n"
     ]
    }
   ],
   "source": [
    "model.eval()\n",
    "with torch.no_grad():\n",
    "    correct = 0\n",
    "    total = 0\n",
    "    for images, labels in test_dataloader:\n",
    "        images = images.reshape(-1, 32, 32)\n",
    "        labels = labels\n",
    "        outputs = model(images)\n",
    "        _, predicted = torch.max(outputs.data, 1)\n",
    "        total += labels.size(0)\n",
    "        correct += (predicted == labels).sum().item()\n",
    "\n",
    "    print(f'Test Accuracy: {100 * correct / total:.2f}%')"
   ]
  },
  {
   "cell_type": "code",
   "execution_count": 48,
   "metadata": {},
   "outputs": [
    {
     "name": "stdout",
     "output_type": "stream",
     "text": [
      "tensor([[-0.0737,  0.3195,  0.0983,  0.2111, -0.1236, -0.2929, -0.1554,  0.0223,\n",
      "          0.3031, -0.3243]], grad_fn=<AddmmBackward0>)\n",
      "Result: 1\n"
     ]
    },
    {
     "data": {
      "text/plain": [
       "<matplotlib.image.AxesImage at 0x15cc85b50>"
      ]
     },
     "execution_count": 48,
     "metadata": {},
     "output_type": "execute_result"
    },
    {
     "data": {
      "image/png": "[encoded data removed]",
      "text/plain": [
       "<Figure size 640x480 with 1 Axes>"
      ]
     },
     "metadata": {},
     "output_type": "display_data"
    }
   ],
   "source": [
    "\n",
    "def get_result(img_path,model,transform):\n",
    "    inputTensor = torchvision.io.read_image(img_path)\n",
    "    inputTensor = transform(inputTensor)\n",
    "    inputTensor = inputTensor.view(-1, 32)\n",
    "    inputTensor = inputTensor[None,:]\n",
    "    # print(inputTensor.shape)\n",
    "    output = model(inputTensor)\n",
    "    print(output)\n",
    "    _, predictions = torch.max(output, 1)\n",
    "    result = predictions.item()\n",
    "    return result\n",
    "#  example \n",
    "index = random.randrange(len(test_images))\n",
    "test_image_path = os.path.join(os.getcwd()+\"/MNIST-CH\", test_images[index])\n",
    "\n",
    "result = get_result(test_image_path,model,transform_train)\n",
    "\n",
    "print(f\"Result: {result}\")\n",
    "plt.imshow(torchvision.io.read_image(test_image_path)[0],cmap='gray')\n"
   ]
  }
 ],
 "metadata": {
  "kernelspec": {
   "display_name": "env",
   "language": "python",
   "name": "python3"
  },
  "language_info": {
   "codemirror_mode": {
    "name": "ipython",
    "version": 3
   },
   "file_extension": ".py",
   "mimetype": "text/x-python",
   "name": "python",
   "nbconvert_exporter": "python",
   "pygments_lexer": "ipython3",
   "version": "3.11.6"
  }
 },
 "nbformat": 4,
 "nbformat_minor": 2
}
