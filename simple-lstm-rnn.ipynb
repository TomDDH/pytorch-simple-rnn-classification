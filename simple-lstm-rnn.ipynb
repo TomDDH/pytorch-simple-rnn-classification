{
 "cells": [
  {
   "cell_type": "code",
   "execution_count": 2,
   "metadata": {},
   "outputs": [],
   "source": [
    "import torch\n",
    "import torch.nn as nn \n",
    "import matplotlib.pyplot as plt \n",
    "import torchvision\n",
    "import numpy as np\n",
    "import random\n",
    "import torchvision.transforms as transforms\n",
    "import os"
   ]
  },
  {
   "cell_type": "code",
   "execution_count": 3,
   "metadata": {},
   "outputs": [],
   "source": [
    "train_images = []\n",
    "test_images =[]\n",
    "\n",
    "totalImages = os.listdir( os.getcwd()+\"/MNIST-CH\")\n",
    " \n",
    "for index in range(len(totalImages)):\n",
    "    image = totalImages[index]\n",
    "    if image.endswith(\".jpg\"):\n",
    "        if index <= 100:\n",
    "            train_images.append(image)\n",
    "        else:\n",
    "            test_images.append(image)"
   ]
  },
  {
   "cell_type": "code",
   "execution_count": 19,
   "metadata": {},
   "outputs": [
    {
     "name": "stdout",
     "output_type": "stream",
     "text": [
      "torch.Size([32, 32]) tensor(8)\n"
     ]
    },
    {
     "data": {
      "text/plain": [
       "<matplotlib.image.AxesImage at 0x135885790>"
      ]
     },
     "execution_count": 19,
     "metadata": {},
     "output_type": "execute_result"
    },
    {
     "data": {
      "image/png": "[encoded data removed]",
      "text/plain": [
       "<Figure size 640x480 with 1 Axes>"
      ]
     },
     "metadata": {},
     "output_type": "display_data"
    }
   ],
   "source": [
    "class MNIST_CH_Dataset(torch.utils.data.Dataset):\n",
    "    def __init__(self,img_dir,images,transforms=None):\n",
    "        self.img_dir = img_dir\n",
    "        self.inputs = images\n",
    "        self.transforms = transforms\n",
    "    def __len__(self):\n",
    "        return len(self.inputs)\n",
    "    def __getitem__(self, idx):\n",
    "        img_path = os.path.join(self.img_dir, self.inputs[idx])\n",
    "        input = torchvision.io.read_image(img_path)\n",
    "        if self.transforms:\n",
    "            input = self.transforms(input)\n",
    "        # input = torch.flatten(input)\n",
    "        input = input.view(-1, 32)\n",
    "        # input = input[:,None,:]\n",
    "        target =torch.tensor(int(self.inputs[idx].split('.')[-2][-1] ))\n",
    "        return input,target\n",
    "    \n",
    "transform_train = transforms.Compose([\n",
    "                                      transforms.RandomRotation(45),\n",
    "                                      transforms.RandomCrop(32),\n",
    "                                      # transforms.RandomHorizontalFlip(p=0.5),\n",
    "                                      transforms.RandomAffine(0, translate=(0.1, 0.1)),\n",
    "                                      transforms.ConvertImageDtype(dtype=torch.float32),\n",
    "                                      ])\n",
    "\n",
    "train_dataset = MNIST_CH_Dataset(img_dir=os.getcwd()+\"/MNIST-CH\",  images=train_images, transforms=transform_train )\n",
    "test_dataset = MNIST_CH_Dataset(img_dir=os.getcwd()+\"/MNIST-CH\",  images=test_images, transforms=transform_train )\n",
    "\n",
    "\n",
    "train_dataloader = torch.utils.data.DataLoader(dataset=train_dataset,batch_size=10, shuffle=True)\n",
    "test_dataloader = torch.utils.data.DataLoader(dataset=test_dataset,batch_size=10, shuffle=False)\n",
    "\n",
    "\n",
    "testInput,target = train_dataset.__getitem__(random.randrange(len(train_images)))\n",
    "print(testInput.shape,target)\n",
    "plt.imshow(testInput,cmap='gray')"
   ]
  },
  {
   "cell_type": "code",
   "execution_count": 20,
   "metadata": {},
   "outputs": [],
   "source": [
    "class RNN(nn.Module):\n",
    "    def __init__(self, input_size, hidden_size, rnn_layers, num_classes):\n",
    "        super(RNN, self).__init__()\n",
    "        self.hidden_size = hidden_size\n",
    "        self.rnn_layers = rnn_layers\n",
    "        self.lstm = nn.LSTM(input_size, hidden_size, rnn_layers, batch_first=True)\n",
    "        self.fc = nn.Linear(hidden_size, num_classes)\n",
    "\n",
    "    def forward(self, input_tensor):\n",
    "        # Set initial hidden state with zeros\n",
    "        h0 = torch.zeros(self.rnn_layers, input_tensor.size(0), self.hidden_size)\n",
    "        c0 = torch.zeros(self.rnn_layers, input_tensor.size(0), self.hidden_size)\n",
    "        # Forward propagate RNN\n",
    "        out, _ = self.lstm(input_tensor, (h0,c0))\n",
    "\n",
    "        # Decode the hidden state of the last time step\n",
    "        out = self.fc(out[:, -1, :])\n",
    "        return out"
   ]
  },
  {
   "cell_type": "code",
   "execution_count": 21,
   "metadata": {},
   "outputs": [],
   "source": [
    "input_size = 32\n",
    "hidden_size = 128\n",
    "output_size = 10\n",
    "num_layers = 10\n",
    "rnn_layers = 2\n",
    "\n",
    "model = RNN(input_size, hidden_size,rnn_layers, output_size)\n",
    "\n",
    "\n",
    "learning_rate = 0.001\n",
    "\n",
    "criterion = nn.CrossEntropyLoss()\n",
    "optimizer = torch.optim.Adam(model.parameters(),lr=learning_rate)"
   ]
  },
  {
   "cell_type": "code",
   "execution_count": 22,
   "metadata": {},
   "outputs": [
    {
     "name": "stdout",
     "output_type": "stream",
     "text": [
      "Epoch [1/100], Loss: 2.3300\n",
      "Epoch [2/100], Loss: 2.2992\n",
      "Epoch [3/100], Loss: 2.2445\n",
      "Epoch [4/100], Loss: 2.2010\n",
      "Epoch [5/100], Loss: 1.6141\n",
      "Epoch [6/100], Loss: 1.8777\n",
      "Epoch [7/100], Loss: 2.1810\n",
      "Epoch [8/100], Loss: 1.8361\n",
      "Epoch [9/100], Loss: 1.7225\n",
      "Epoch [10/100], Loss: 1.9798\n",
      "Epoch [11/100], Loss: 1.9454\n",
      "Epoch [12/100], Loss: 1.7668\n",
      "Epoch [13/100], Loss: 1.5969\n",
      "Epoch [14/100], Loss: 1.9784\n",
      "Epoch [15/100], Loss: 1.6003\n",
      "Epoch [16/100], Loss: 1.5762\n",
      "Epoch [17/100], Loss: 1.3418\n",
      "Epoch [18/100], Loss: 1.6480\n",
      "Epoch [19/100], Loss: 1.7893\n",
      "Epoch [20/100], Loss: 1.2375\n",
      "Epoch [21/100], Loss: 1.5382\n",
      "Epoch [22/100], Loss: 1.7246\n",
      "Epoch [23/100], Loss: 1.6169\n",
      "Epoch [24/100], Loss: 1.6772\n",
      "Epoch [25/100], Loss: 1.1374\n",
      "Epoch [26/100], Loss: 2.0924\n",
      "Epoch [27/100], Loss: 2.0733\n",
      "Epoch [28/100], Loss: 1.6900\n",
      "Epoch [29/100], Loss: 1.3983\n",
      "Epoch [30/100], Loss: 2.2578\n",
      "Epoch [31/100], Loss: 1.5372\n",
      "Epoch [32/100], Loss: 1.9283\n",
      "Epoch [33/100], Loss: 1.7316\n",
      "Epoch [34/100], Loss: 1.8395\n",
      "Epoch [35/100], Loss: 1.5721\n",
      "Epoch [36/100], Loss: 1.5433\n",
      "Epoch [37/100], Loss: 1.7186\n",
      "Epoch [38/100], Loss: 1.3171\n",
      "Epoch [39/100], Loss: 1.7767\n",
      "Epoch [40/100], Loss: 1.8205\n",
      "Epoch [41/100], Loss: 1.4518\n",
      "Epoch [42/100], Loss: 1.3941\n",
      "Epoch [43/100], Loss: 1.2471\n",
      "Epoch [44/100], Loss: 1.0667\n",
      "Epoch [45/100], Loss: 0.7327\n",
      "Epoch [46/100], Loss: 1.6030\n",
      "Epoch [47/100], Loss: 1.5445\n",
      "Epoch [48/100], Loss: 1.2847\n",
      "Epoch [49/100], Loss: 1.4870\n",
      "Epoch [50/100], Loss: 1.0629\n",
      "Epoch [51/100], Loss: 1.2267\n",
      "Epoch [52/100], Loss: 0.9249\n",
      "Epoch [53/100], Loss: 1.9477\n",
      "Epoch [54/100], Loss: 1.4171\n",
      "Epoch [55/100], Loss: 1.1889\n",
      "Epoch [56/100], Loss: 1.1988\n",
      "Epoch [57/100], Loss: 1.6864\n",
      "Epoch [58/100], Loss: 1.4776\n",
      "Epoch [59/100], Loss: 1.4482\n",
      "Epoch [60/100], Loss: 0.9216\n",
      "Epoch [61/100], Loss: 1.3964\n",
      "Epoch [62/100], Loss: 0.9825\n",
      "Epoch [63/100], Loss: 1.0750\n",
      "Epoch [64/100], Loss: 0.9327\n",
      "Epoch [65/100], Loss: 1.3705\n",
      "Epoch [66/100], Loss: 0.9359\n",
      "Epoch [67/100], Loss: 1.4189\n",
      "Epoch [68/100], Loss: 0.8997\n",
      "Epoch [69/100], Loss: 0.7352\n",
      "Epoch [70/100], Loss: 0.8613\n",
      "Epoch [71/100], Loss: 1.3365\n",
      "Epoch [72/100], Loss: 1.0567\n",
      "Epoch [73/100], Loss: 0.9702\n",
      "Epoch [74/100], Loss: 0.8388\n",
      "Epoch [75/100], Loss: 0.9073\n",
      "Epoch [76/100], Loss: 0.9415\n",
      "Epoch [77/100], Loss: 1.6689\n",
      "Epoch [78/100], Loss: 1.1922\n",
      "Epoch [79/100], Loss: 0.9185\n",
      "Epoch [80/100], Loss: 0.7581\n",
      "Epoch [81/100], Loss: 0.8584\n",
      "Epoch [82/100], Loss: 0.9806\n",
      "Epoch [83/100], Loss: 1.4968\n",
      "Epoch [84/100], Loss: 0.9007\n",
      "Epoch [85/100], Loss: 1.2064\n",
      "Epoch [86/100], Loss: 1.0992\n",
      "Epoch [87/100], Loss: 0.9426\n",
      "Epoch [88/100], Loss: 0.6068\n",
      "Epoch [89/100], Loss: 0.8289\n",
      "Epoch [90/100], Loss: 0.8387\n",
      "Epoch [91/100], Loss: 1.0733\n",
      "Epoch [92/100], Loss: 0.7472\n",
      "Epoch [93/100], Loss: 0.5701\n",
      "Epoch [94/100], Loss: 0.4206\n",
      "Epoch [95/100], Loss: 1.1153\n",
      "Epoch [96/100], Loss: 0.7015\n",
      "Epoch [97/100], Loss: 0.8800\n",
      "Epoch [98/100], Loss: 0.4920\n",
      "Epoch [99/100], Loss: 0.5868\n",
      "Epoch [100/100], Loss: 0.4390\n"
     ]
    }
   ],
   "source": [
    "num_epochs = 100\n",
    "train_losses = np.zeros(num_epochs)\n",
    "for epoch in range(num_epochs):\n",
    "    train_loss = []\n",
    "    for i, (input,target) in enumerate(train_dataloader):\n",
    "        # print(input.shape)\n",
    "        input = input.reshape(-1, 32, 32)\n",
    "        outputs = model(input)\n",
    "        loss = criterion(outputs, target)\n",
    "     \n",
    "        # Backward and optimize\n",
    "        optimizer.zero_grad()\n",
    "        loss.backward()\n",
    "        optimizer.step()\n",
    "        train_loss.append(loss.item())\n",
    "        if (i+1) % 10 == 0:\n",
    "            # print(input.shape)\n",
    "            # print(target.shape)\n",
    "            # print(outputs.shape)\n",
    "            print(f'Epoch [{epoch+1}/{num_epochs}], Loss: {loss.item():.4f}')\n",
    "    train_loss = np.mean(train_loss)\n",
    "    train_losses[epoch] = train_loss"
   ]
  },
  {
   "cell_type": "code",
   "execution_count": 23,
   "metadata": {},
   "outputs": [
    {
     "data": {
      "image/png": "[encoded data removed]",
      "text/plain": [
       "<Figure size 640x480 with 1 Axes>"
      ]
     },
     "metadata": {},
     "output_type": "display_data"
    }
   ],
   "source": [
    "plt.plot(train_losses, label='train loss')\n",
    "plt.legend()\n",
    "plt.show()"
   ]
  },
  {
   "cell_type": "code",
   "execution_count": 24,
   "metadata": {},
   "outputs": [
    {
     "name": "stdout",
     "output_type": "stream",
     "text": [
      "Test Accuracy: 80.00%\n"
     ]
    }
   ],
   "source": [
    "model.eval()\n",
    "with torch.no_grad():\n",
    "    correct = 0\n",
    "    total = 0\n",
    "    for images, labels in test_dataloader:\n",
    "        images = images.reshape(-1, 32, 32)\n",
    "        labels = labels\n",
    "        outputs = model(images)\n",
    "        _, predicted = torch.max(outputs.data, 1)\n",
    "        total += labels.size(0)\n",
    "        correct += (predicted == labels).sum().item()\n",
    "\n",
    "    print(f'Test Accuracy: {100 * correct / total:.2f}%')"
   ]
  },
  {
   "cell_type": "code",
   "execution_count": 25,
   "metadata": {},
   "outputs": [
    {
     "name": "stdout",
     "output_type": "stream",
     "text": [
      "tensor([[-0.9481, -2.3298,  2.0862,  2.4913, -3.7081, -1.6646,  3.0172,  0.1039,\n",
      "          3.2755, -1.1743]], grad_fn=<AddmmBackward0>)\n",
      "Result: 8\n"
     ]
    },
    {
     "data": {
      "text/plain": [
       "<matplotlib.image.AxesImage at 0x135b73ed0>"
      ]
     },
     "execution_count": 25,
     "metadata": {},
     "output_type": "execute_result"
    },
    {
     "data": {
      "image/png": "[encoded data removed]",
      "text/plain": [
       "<Figure size 640x480 with 1 Axes>"
      ]
     },
     "metadata": {},
     "output_type": "display_data"
    }
   ],
   "source": [
    "\n",
    "def get_result(img_path,model,transform):\n",
    "    inputTensor = torchvision.io.read_image(img_path)\n",
    "    inputTensor = transform(inputTensor)\n",
    "    inputTensor = inputTensor.view(-1, 32)\n",
    "    inputTensor = inputTensor[None,:]\n",
    "    # print(inputTensor.shape)\n",
    "    output = model(inputTensor)\n",
    "    print(output)\n",
    "    _, predictions = torch.max(output, 1)\n",
    "    result = predictions.item()\n",
    "    return result\n",
    "#  example \n",
    "index = random.randrange(len(test_images))\n",
    "test_image_path = os.path.join(os.getcwd()+\"/MNIST-CH\", test_images[index])\n",
    "\n",
    "result = get_result(test_image_path,model,transform_train)\n",
    "\n",
    "print(f\"Result: {result}\")\n",
    "plt.imshow(torchvision.io.read_image(test_image_path)[0],cmap='gray')\n"
   ]
  }
 ],
 "metadata": {
  "kernelspec": {
   "display_name": "env",
   "language": "python",
   "name": "python3"
  },
  "language_info": {
   "codemirror_mode": {
    "name": "ipython",
    "version": 3
   },
   "file_extension": ".py",
   "mimetype": "text/x-python",
   "name": "python",
   "nbconvert_exporter": "python",
   "pygments_lexer": "ipython3",
   "version": "3.11.6"
  }
 },
 "nbformat": 4,
 "nbformat_minor": 2
}
