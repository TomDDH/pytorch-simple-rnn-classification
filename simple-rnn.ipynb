{
 "cells": [
  {
   "cell_type": "code",
   "execution_count": 15,
   "metadata": {},
   "outputs": [],
   "source": [
    "import torch\n",
    "import torch.nn as nn \n",
    "import matplotlib.pyplot as plt \n",
    "import torchvision\n",
    "import numpy as np\n",
    "import random\n",
    "import torchvision.transforms as transforms\n",
    "import os"
   ]
  },
  {
   "cell_type": "code",
   "execution_count": 24,
   "metadata": {},
   "outputs": [],
   "source": [
    "train_images = []\n",
    "test_images =[]\n",
    "\n",
    "totalImages = os.listdir( os.getcwd()+\"/MNIST-CH\")\n",
    " \n",
    "for index in range(len(totalImages)):\n",
    "    image = totalImages[index]\n",
    "    if image.endswith(\".jpg\"):\n",
    "        if index <= 100:\n",
    "            train_images.append(image)\n",
    "        else:\n",
    "            test_images.append(image)"
   ]
  },
  {
   "cell_type": "code",
   "execution_count": 75,
   "metadata": {},
   "outputs": [
    {
     "name": "stdout",
     "output_type": "stream",
     "text": [
      "torch.Size([32, 32]) tensor(2)\n"
     ]
    },
    {
     "data": {
      "text/plain": [
       "<matplotlib.image.AxesImage at 0x130137550>"
      ]
     },
     "execution_count": 75,
     "metadata": {},
     "output_type": "execute_result"
    },
    {
     "data": {
      "image/png": "[encoded data removed]",
      "text/plain": [
       "<Figure size 640x480 with 1 Axes>"
      ]
     },
     "metadata": {},
     "output_type": "display_data"
    }
   ],
   "source": [
    "class MNIST_CH_Dataset(torch.utils.data.Dataset):\n",
    "    def __init__(self,img_dir,images,transforms=None):\n",
    "        self.img_dir = img_dir\n",
    "        self.inputs = images\n",
    "        self.transforms = transforms\n",
    "    def __len__(self):\n",
    "        return len(self.inputs)\n",
    "    def __getitem__(self, idx):\n",
    "        img_path = os.path.join(self.img_dir, self.inputs[idx])\n",
    "        input = torchvision.io.read_image(img_path)\n",
    "        if self.transforms:\n",
    "            input = self.transforms(input)\n",
    "        # input = torch.flatten(input)\n",
    "        input = input.view(-1, 32)\n",
    "        # input = input[:,None,:]\n",
    "        target =torch.tensor(int(self.inputs[idx].split('.')[-2][-1] ))\n",
    "        return input,target\n",
    "    \n",
    "transform_train = transforms.Compose([\n",
    "                                      transforms.RandomRotation(15),\n",
    "                                      transforms.RandomCrop(32),\n",
    "                                      # transforms.RandomHorizontalFlip(p=0.5),\n",
    "                                      transforms.RandomAffine(0, translate=(0.1, 0.1)),\n",
    "                                      transforms.ConvertImageDtype(dtype=torch.float32),\n",
    "                                      ])\n",
    "\n",
    "train_dataset = MNIST_CH_Dataset(img_dir=os.getcwd()+\"/MNIST-CH\",  images=train_images, transforms=transform_train )\n",
    "test_dataset = MNIST_CH_Dataset(img_dir=os.getcwd()+\"/MNIST-CH\",  images=test_images, transforms=transform_train )\n",
    "\n",
    "\n",
    "train_dataloader = torch.utils.data.DataLoader(dataset=train_dataset,batch_size=10, shuffle=True)\n",
    "test_dataloader = torch.utils.data.DataLoader(dataset=test_dataset,batch_size=10, shuffle=False)\n",
    "\n",
    "\n",
    "testInput,target = train_dataset.__getitem__(random.randrange(len(train_images)))\n",
    "print(testInput.shape,target)\n",
    "plt.imshow(testInput,cmap='gray')"
   ]
  },
  {
   "cell_type": "code",
   "execution_count": 76,
   "metadata": {},
   "outputs": [],
   "source": [
    "class RNN(nn.Module):\n",
    "    def __init__(self, input_size, hidden_size, rnn_layers, num_classes):\n",
    "        super(RNN, self).__init__()\n",
    "        self.hidden_size = hidden_size\n",
    "        self.rnn_layers = rnn_layers\n",
    "        self.rnn = nn.RNN(input_size, hidden_size, rnn_layers, batch_first=True)\n",
    "        self.fc = nn.Linear(hidden_size, num_classes)\n",
    "\n",
    "    def forward(self, input_tensor):\n",
    "        # Set initial hidden state with zeros\n",
    "        h0 = torch.zeros(self.rnn_layers, input_tensor.size(0), self.hidden_size)\n",
    "\n",
    "        # Forward propagate RNN\n",
    "        out, _ = self.rnn(input_tensor, h0)\n",
    "\n",
    "        # Decode the hidden state of the last time step\n",
    "        out = self.fc(out[:, -1, :])\n",
    "        return out"
   ]
  },
  {
   "cell_type": "code",
   "execution_count": 77,
   "metadata": {},
   "outputs": [],
   "source": [
    "input_size = 32\n",
    "hidden_size = 128\n",
    "output_size = 10\n",
    "num_layers = 10\n",
    "rnn_layers = 2\n",
    "\n",
    "model = RNN(input_size, hidden_size,rnn_layers, output_size)\n",
    "\n",
    "\n",
    "learning_rate = 0.001\n",
    "\n",
    "criterion = nn.CrossEntropyLoss()\n",
    "optimizer = torch.optim.Adam(model.parameters(),lr=learning_rate)"
   ]
  },
  {
   "cell_type": "code",
   "execution_count": 78,
   "metadata": {},
   "outputs": [
    {
     "name": "stdout",
     "output_type": "stream",
     "text": [
      "Epoch [1/100], Loss: 2.3076\n",
      "Epoch [2/100], Loss: 2.3018\n",
      "Epoch [3/100], Loss: 2.0733\n",
      "Epoch [4/100], Loss: 1.9651\n",
      "Epoch [5/100], Loss: 2.0606\n",
      "Epoch [6/100], Loss: 2.2553\n",
      "Epoch [7/100], Loss: 1.9318\n",
      "Epoch [8/100], Loss: 2.2613\n",
      "Epoch [9/100], Loss: 2.0654\n",
      "Epoch [10/100], Loss: 1.9626\n",
      "Epoch [11/100], Loss: 1.6466\n",
      "Epoch [12/100], Loss: 1.8226\n",
      "Epoch [13/100], Loss: 1.9183\n",
      "Epoch [14/100], Loss: 1.5025\n",
      "Epoch [15/100], Loss: 1.7508\n",
      "Epoch [16/100], Loss: 2.1513\n",
      "Epoch [17/100], Loss: 1.4505\n",
      "Epoch [18/100], Loss: 2.6465\n",
      "Epoch [19/100], Loss: 1.7928\n",
      "Epoch [20/100], Loss: 1.4820\n",
      "Epoch [21/100], Loss: 2.0643\n",
      "Epoch [22/100], Loss: 1.6290\n",
      "Epoch [23/100], Loss: 1.4890\n",
      "Epoch [24/100], Loss: 1.5042\n",
      "Epoch [25/100], Loss: 2.2011\n",
      "Epoch [26/100], Loss: 1.3334\n",
      "Epoch [27/100], Loss: 1.4398\n",
      "Epoch [28/100], Loss: 2.4059\n",
      "Epoch [29/100], Loss: 1.5665\n",
      "Epoch [30/100], Loss: 1.7321\n",
      "Epoch [31/100], Loss: 1.2257\n",
      "Epoch [32/100], Loss: 1.9140\n",
      "Epoch [33/100], Loss: 2.8439\n",
      "Epoch [34/100], Loss: 2.3193\n",
      "Epoch [35/100], Loss: 1.9499\n",
      "Epoch [36/100], Loss: 1.4123\n",
      "Epoch [37/100], Loss: 1.5988\n",
      "Epoch [38/100], Loss: 1.7422\n",
      "Epoch [39/100], Loss: 2.2251\n",
      "Epoch [40/100], Loss: 1.1554\n",
      "Epoch [41/100], Loss: 1.1728\n",
      "Epoch [42/100], Loss: 2.0333\n",
      "Epoch [43/100], Loss: 1.6710\n",
      "Epoch [44/100], Loss: 2.9790\n",
      "Epoch [45/100], Loss: 1.8488\n",
      "Epoch [46/100], Loss: 2.1927\n",
      "Epoch [47/100], Loss: 1.5677\n",
      "Epoch [48/100], Loss: 1.9805\n",
      "Epoch [49/100], Loss: 1.8937\n",
      "Epoch [50/100], Loss: 1.6161\n",
      "Epoch [51/100], Loss: 1.5701\n",
      "Epoch [52/100], Loss: 1.5894\n",
      "Epoch [53/100], Loss: 1.5437\n",
      "Epoch [54/100], Loss: 1.8506\n",
      "Epoch [55/100], Loss: 1.4398\n",
      "Epoch [56/100], Loss: 1.0602\n",
      "Epoch [57/100], Loss: 1.5915\n",
      "Epoch [58/100], Loss: 1.3056\n",
      "Epoch [59/100], Loss: 1.9517\n",
      "Epoch [60/100], Loss: 1.1493\n",
      "Epoch [61/100], Loss: 1.4781\n",
      "Epoch [62/100], Loss: 0.9610\n",
      "Epoch [63/100], Loss: 1.5541\n",
      "Epoch [64/100], Loss: 1.2479\n",
      "Epoch [65/100], Loss: 1.2181\n",
      "Epoch [66/100], Loss: 1.1592\n",
      "Epoch [67/100], Loss: 1.3965\n",
      "Epoch [68/100], Loss: 1.2872\n",
      "Epoch [69/100], Loss: 1.7051\n",
      "Epoch [70/100], Loss: 1.3186\n",
      "Epoch [71/100], Loss: 1.5259\n",
      "Epoch [72/100], Loss: 1.2572\n",
      "Epoch [73/100], Loss: 1.2633\n",
      "Epoch [74/100], Loss: 1.7987\n",
      "Epoch [75/100], Loss: 1.5894\n",
      "Epoch [76/100], Loss: 1.4784\n",
      "Epoch [77/100], Loss: 0.9799\n",
      "Epoch [78/100], Loss: 1.1527\n",
      "Epoch [79/100], Loss: 1.8585\n",
      "Epoch [80/100], Loss: 1.6444\n",
      "Epoch [81/100], Loss: 1.3743\n",
      "Epoch [82/100], Loss: 2.2822\n",
      "Epoch [83/100], Loss: 1.9938\n",
      "Epoch [84/100], Loss: 1.9809\n",
      "Epoch [85/100], Loss: 1.7411\n",
      "Epoch [86/100], Loss: 1.8052\n",
      "Epoch [87/100], Loss: 2.2534\n",
      "Epoch [88/100], Loss: 2.1788\n",
      "Epoch [89/100], Loss: 1.3718\n",
      "Epoch [90/100], Loss: 2.0850\n",
      "Epoch [91/100], Loss: 1.6256\n",
      "Epoch [92/100], Loss: 1.4825\n",
      "Epoch [93/100], Loss: 1.1439\n",
      "Epoch [94/100], Loss: 1.6191\n",
      "Epoch [95/100], Loss: 1.5245\n",
      "Epoch [96/100], Loss: 1.5280\n",
      "Epoch [97/100], Loss: 1.6913\n",
      "Epoch [98/100], Loss: 1.1972\n",
      "Epoch [99/100], Loss: 0.9800\n",
      "Epoch [100/100], Loss: 2.1463\n"
     ]
    }
   ],
   "source": [
    "num_epochs = 100\n",
    "train_losses = np.zeros(num_epochs)\n",
    "for epoch in range(num_epochs):\n",
    "    train_loss = []\n",
    "    for i, (input,target) in enumerate(train_dataloader):\n",
    "        # print(input.shape)\n",
    "        input = input.reshape(-1, 32, 32)\n",
    "        outputs = model(input)\n",
    "        loss = criterion(outputs, target)\n",
    "     \n",
    "        # Backward and optimize\n",
    "        optimizer.zero_grad()\n",
    "        loss.backward()\n",
    "        optimizer.step()\n",
    "        train_loss.append(loss.item())\n",
    "        if (i+1) % 10 == 0:\n",
    "            # print(input.shape)\n",
    "            # print(target.shape)\n",
    "            # print(outputs.shape)\n",
    "            print(f'Epoch [{epoch+1}/{num_epochs}], Loss: {loss.item():.4f}')\n",
    "    train_loss = np.mean(train_loss)\n",
    "    train_losses[epoch] = train_loss"
   ]
  },
  {
   "cell_type": "code",
   "execution_count": 79,
   "metadata": {},
   "outputs": [
    {
     "data": {
      "image/png": "[encoded data removed]",
      "text/plain": [
       "<Figure size 640x480 with 1 Axes>"
      ]
     },
     "metadata": {},
     "output_type": "display_data"
    }
   ],
   "source": [
    "plt.plot(train_losses, label='train loss')\n",
    "plt.legend()\n",
    "plt.show()"
   ]
  },
  {
   "cell_type": "code",
   "execution_count": 80,
   "metadata": {},
   "outputs": [
    {
     "name": "stdout",
     "output_type": "stream",
     "text": [
      "Test Accuracy: 35.00%\n"
     ]
    }
   ],
   "source": [
    "model.eval()\n",
    "with torch.no_grad():\n",
    "    correct = 0\n",
    "    total = 0\n",
    "    for images, labels in test_dataloader:\n",
    "        images = images.reshape(-1, 32, 32)\n",
    "        labels = labels\n",
    "        outputs = model(images)\n",
    "        _, predicted = torch.max(outputs.data, 1)\n",
    "        total += labels.size(0)\n",
    "        correct += (predicted == labels).sum().item()\n",
    "\n",
    "    print(f'Test Accuracy: {100 * correct / total:.2f}%')"
   ]
  },
  {
   "cell_type": "code",
   "execution_count": 81,
   "metadata": {},
   "outputs": [
    {
     "name": "stdout",
     "output_type": "stream",
     "text": [
      "tensor([[-1.2034, -4.4168, -1.5035, -0.1080,  1.5909,  2.1422,  0.4149,  1.5781,\n",
      "         -0.8269,  1.6284]], grad_fn=<AddmmBackward0>)\n",
      "Result: 5\n"
     ]
    },
    {
     "data": {
      "text/plain": [
       "<matplotlib.image.AxesImage at 0x1302a33d0>"
      ]
     },
     "execution_count": 81,
     "metadata": {},
     "output_type": "execute_result"
    },
    {
     "data": {
      "image/png": "[encoded data removed]",
      "text/plain": [
       "<Figure size 640x480 with 1 Axes>"
      ]
     },
     "metadata": {},
     "output_type": "display_data"
    }
   ],
   "source": [
    "\n",
    "def get_result(img_path,model,transform):\n",
    "    inputTensor = torchvision.io.read_image(img_path)\n",
    "    inputTensor = transform(inputTensor)\n",
    "    inputTensor = inputTensor.view(-1, 32)\n",
    "    inputTensor = inputTensor[None,:]\n",
    "    # print(inputTensor.shape)\n",
    "    output = model(inputTensor)\n",
    "    print(output)\n",
    "    _, predictions = torch.max(output, 1)\n",
    "    result = predictions.item()\n",
    "    return result\n",
    "#  example \n",
    "index = random.randrange(len(test_images))\n",
    "test_image_path = os.path.join(os.getcwd()+\"/MNIST-CH\", test_images[index])\n",
    "\n",
    "result = get_result(test_image_path,model,transform_train)\n",
    "\n",
    "print(f\"Result: {result}\")\n",
    "plt.imshow(torchvision.io.read_image(test_image_path)[0],cmap='gray')\n"
   ]
  }
 ],
 "metadata": {
  "kernelspec": {
   "display_name": "env",
   "language": "python",
   "name": "python3"
  },
  "language_info": {
   "codemirror_mode": {
    "name": "ipython",
    "version": 3
   },
   "file_extension": ".py",
   "mimetype": "text/x-python",
   "name": "python",
   "nbconvert_exporter": "python",
   "pygments_lexer": "ipython3",
   "version": "3.11.6"
  }
 },
 "nbformat": 4,
 "nbformat_minor": 2
}
